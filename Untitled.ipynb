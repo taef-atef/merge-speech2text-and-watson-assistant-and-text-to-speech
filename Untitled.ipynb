{
 "cells": [
  {
   "cell_type": "code",
   "execution_count": 1,
   "metadata": {},
   "outputs": [
    {
     "name": "stdout",
     "output_type": "stream",
     "text": [
      "Requirement already satisfied: ibm_watson in c:\\users\\firas\\appdata\\local\\programs\\python\\python37\\lib\\site-packages (5.2.2)\n",
      "Requirement already satisfied: python-dateutil>=2.5.3 in c:\\users\\firas\\appdata\\local\\programs\\python\\python37\\lib\\site-packages (from ibm_watson) (2.8.1)\n",
      "Requirement already satisfied: requests<3.0,>=2.0 in c:\\users\\firas\\appdata\\local\\programs\\python\\python37\\lib\\site-packages (from ibm_watson) (2.25.1)\n",
      "Requirement already satisfied: websocket-client==1.1.0 in c:\\users\\firas\\appdata\\local\\programs\\python\\python37\\lib\\site-packages (from ibm_watson) (1.1.0)\n",
      "Requirement already satisfied: ibm-cloud-sdk-core==3.*,>=3.3.6 in c:\\users\\firas\\appdata\\local\\programs\\python\\python37\\lib\\site-packages (from ibm_watson) (3.10.1)\n",
      "Requirement already satisfied: six>=1.5 in c:\\users\\firas\\appdata\\local\\programs\\python\\python37\\lib\\site-packages (from python-dateutil>=2.5.3->ibm_watson) (1.15.0)\n",
      "Requirement already satisfied: chardet<5,>=3.0.2 in c:\\users\\firas\\appdata\\local\\programs\\python\\python37\\lib\\site-packages (from requests<3.0,>=2.0->ibm_watson) (3.0.4)\n",
      "Requirement already satisfied: urllib3<1.27,>=1.21.1 in c:\\users\\firas\\appdata\\local\\programs\\python\\python37\\lib\\site-packages (from requests<3.0,>=2.0->ibm_watson) (1.26.3)\n",
      "Requirement already satisfied: certifi>=2017.4.17 in c:\\users\\firas\\appdata\\local\\programs\\python\\python37\\lib\\site-packages (from requests<3.0,>=2.0->ibm_watson) (2020.6.20)\n",
      "Requirement already satisfied: idna<3,>=2.5 in c:\\users\\firas\\appdata\\local\\programs\\python\\python37\\lib\\site-packages (from requests<3.0,>=2.0->ibm_watson) (2.10)\n",
      "Requirement already satisfied: PyJWT<3.0.0,>=2.0.1 in c:\\users\\firas\\appdata\\local\\programs\\python\\python37\\lib\\site-packages (from ibm-cloud-sdk-core==3.*,>=3.3.6->ibm_watson) (2.1.0)\n",
      "Note: you may need to restart the kernel to use updated packages.\n"
     ]
    },
    {
     "name": "stderr",
     "output_type": "stream",
     "text": [
      "You are using pip version 19.0.3, however version 21.1.3 is available.\n",
      "You should consider upgrading via the 'python -m pip install --upgrade pip' command.\n"
     ]
    }
   ],
   "source": [
    "pip install ibm_watson"
   ]
  },
  {
   "cell_type": "code",
   "execution_count": 2,
   "metadata": {},
   "outputs": [
    {
     "name": "stdout",
     "output_type": "stream",
     "text": [
      "Requirement already satisfied: ibm_cloud_sdk_core in c:\\users\\firas\\appdata\\local\\programs\\python\\python37\\lib\\site-packages (3.10.1)\n",
      "Requirement already satisfied: python-dateutil<3.0.0,>=2.5.3 in c:\\users\\firas\\appdata\\local\\programs\\python\\python37\\lib\\site-packages (from ibm_cloud_sdk_core) (2.8.1)\n",
      "Requirement already satisfied: requests<3.0,>=2.20 in c:\\users\\firas\\appdata\\local\\programs\\python\\python37\\lib\\site-packages (from ibm_cloud_sdk_core) (2.25.1)\n",
      "Requirement already satisfied: PyJWT<3.0.0,>=2.0.1 in c:\\users\\firas\\appdata\\local\\programs\\python\\python37\\lib\\site-packages (from ibm_cloud_sdk_core) (2.1.0)\n",
      "Requirement already satisfied: six>=1.5 in c:\\users\\firas\\appdata\\local\\programs\\python\\python37\\lib\\site-packages (from python-dateutil<3.0.0,>=2.5.3->ibm_cloud_sdk_core) (1.15.0)\n",
      "Requirement already satisfied: certifi>=2017.4.17 in c:\\users\\firas\\appdata\\local\\programs\\python\\python37\\lib\\site-packages (from requests<3.0,>=2.20->ibm_cloud_sdk_core) (2020.6.20)\n",
      "Requirement already satisfied: chardet<5,>=3.0.2 in c:\\users\\firas\\appdata\\local\\programs\\python\\python37\\lib\\site-packages (from requests<3.0,>=2.20->ibm_cloud_sdk_core) (3.0.4)\n",
      "Requirement already satisfied: idna<3,>=2.5 in c:\\users\\firas\\appdata\\local\\programs\\python\\python37\\lib\\site-packages (from requests<3.0,>=2.20->ibm_cloud_sdk_core) (2.10)\n",
      "Requirement already satisfied: urllib3<1.27,>=1.21.1 in c:\\users\\firas\\appdata\\local\\programs\\python\\python37\\lib\\site-packages (from requests<3.0,>=2.20->ibm_cloud_sdk_core) (1.26.3)\n",
      "Note: you may need to restart the kernel to use updated packages.\n"
     ]
    },
    {
     "name": "stderr",
     "output_type": "stream",
     "text": [
      "You are using pip version 19.0.3, however version 21.1.3 is available.\n",
      "You should consider upgrading via the 'python -m pip install --upgrade pip' command.\n"
     ]
    }
   ],
   "source": [
    "pip install ibm_cloud_sdk_core"
   ]
  },
  {
   "cell_type": "code",
   "execution_count": 3,
   "metadata": {},
   "outputs": [],
   "source": [
    "from ibm_watson import TextToSpeechV1"
   ]
  },
  {
   "cell_type": "code",
   "execution_count": 4,
   "metadata": {},
   "outputs": [],
   "source": [
    "from ibm_cloud_sdk_core.authenticators import IAMAuthenticator"
   ]
  },
  {
   "cell_type": "code",
   "execution_count": 5,
   "metadata": {},
   "outputs": [],
   "source": [
    "api=IAMAuthenticator('oL2eTpIINazjXif2BR8p4oFNEJH3oN3E-bnPIawKoOEY')"
   ]
  },
  {
   "cell_type": "code",
   "execution_count": 6,
   "metadata": {},
   "outputs": [],
   "source": [
    "txt2speech=TextToSpeechV1(authenticator=api)"
   ]
  },
  {
   "cell_type": "code",
   "execution_count": 7,
   "metadata": {},
   "outputs": [],
   "source": [
    "txt2speech.set_service_url('https://api.eu-gb.text-to-speech.watson.cloud.ibm.com/instances/ad036d83-ffdc-439d-8651-89378f516445')"
   ]
  },
  {
   "cell_type": "code",
   "execution_count": 11,
   "metadata": {},
   "outputs": [],
   "source": [
    "with open(\"speech.mp3\",\"wb\") as audiofile:\n",
    "    audiofile.write(\n",
    "        txt2speech.synthesize(\"Hello, this is python and IBM homework it was really amazing coding with this features\"\n",
    "                              ,accept=\"audio/mp3\").get_result().content\n",
    "    )"
   ]
  },
  {
   "cell_type": "markdown",
   "metadata": {},
   "source": [
    "# speech to text"
   ]
  },
  {
   "cell_type": "code",
   "execution_count": 12,
   "metadata": {},
   "outputs": [],
   "source": [
    "from ibm_watson import SpeechToTextV1"
   ]
  },
  {
   "cell_type": "code",
   "execution_count": 13,
   "metadata": {},
   "outputs": [],
   "source": [
    "api='qpombChgxcJkXTbFEKh-ulPDGesRGQ2G_nTVOBSEYnz7'\n",
    "url='https://api.eu-gb.speech-to-text.watson.cloud.ibm.com/instances/4f149214-b1dd-44b6-9174-6e60504ae6fc'"
   ]
  },
  {
   "cell_type": "code",
   "execution_count": 14,
   "metadata": {},
   "outputs": [],
   "source": [
    "api=IAMAuthenticator(api)"
   ]
  },
  {
   "cell_type": "code",
   "execution_count": 15,
   "metadata": {},
   "outputs": [],
   "source": [
    "s2t=SpeechToTextV1(authenticator=api)"
   ]
  },
  {
   "cell_type": "code",
   "execution_count": 16,
   "metadata": {},
   "outputs": [],
   "source": [
    "s2t.set_service_url(url)"
   ]
  },
  {
   "cell_type": "code",
   "execution_count": 18,
   "metadata": {},
   "outputs": [],
   "source": [
    "with open('speech.mp3','rb') as f:\n",
    "    res=s2t.recognize(audio=f,content_type='audio/mp3',model='en-US_NarrowbandModel',continous=True).get_result()"
   ]
  },
  {
   "cell_type": "code",
   "execution_count": 20,
   "metadata": {},
   "outputs": [],
   "source": [
    "text=res['results'][0]['alternatives'][0]['transcript']"
   ]
  },
  {
   "cell_type": "code",
   "execution_count": 21,
   "metadata": {},
   "outputs": [
    {
     "data": {
      "text/plain": [
       "'hello this is python and I. B. M. homework it was really amazing coating with this features '"
      ]
     },
     "execution_count": 21,
     "metadata": {},
     "output_type": "execute_result"
    }
   ],
   "source": [
    "text"
   ]
  },
  {
   "cell_type": "code",
   "execution_count": 22,
   "metadata": {},
   "outputs": [],
   "source": [
    "with open('output.txt','w') as out:\n",
    "    out.writelines(text)"
   ]
  },
  {
   "cell_type": "code",
   "execution_count": null,
   "metadata": {},
   "outputs": [],
   "source": []
  }
 ],
 "metadata": {
  "kernelspec": {
   "display_name": "Python 3",
   "language": "python",
   "name": "python3"
  },
  "language_info": {
   "codemirror_mode": {
    "name": "ipython",
    "version": 3
   },
   "file_extension": ".py",
   "mimetype": "text/x-python",
   "name": "python",
   "nbconvert_exporter": "python",
   "pygments_lexer": "ipython3",
   "version": "3.7.4"
  }
 },
 "nbformat": 4,
 "nbformat_minor": 4
}
